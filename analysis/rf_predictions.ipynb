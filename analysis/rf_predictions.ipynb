{
 "cells": [
  {
   "cell_type": "markdown",
   "metadata": {},
   "source": [
    "## Predict on new data"
   ]
  },
  {
   "cell_type": "code",
   "execution_count": 1,
   "metadata": {},
   "outputs": [],
   "source": [
    "# EDA and data handling\n",
    "import numpy as np \n",
    "import pandas as pd \n",
    "import pickle\n",
    "import os\n",
    "import matplotlib.pyplot as plt\n",
    "\n",
    "# Modeling\n",
    "import sklearn\n",
    "from sklearn.model_selection import train_test_split, GridSearchCV \n",
    "from sklearn.feature_extraction.text import TfidfVectorizer\n",
    "from sklearn.ensemble import RandomForestClassifier \n",
    "from sklearn import metrics"
   ]
  },
  {
   "cell_type": "code",
   "execution_count": 2,
   "metadata": {},
   "outputs": [],
   "source": [
    "# open the pickled word vector file\n",
    "file = open('vectorizer.pkl', 'rb')\n",
    "tvec_pkl=pickle.load(file)\n",
    "file.close()"
   ]
  },
  {
   "cell_type": "code",
   "execution_count": 3,
   "metadata": {},
   "outputs": [
    {
     "data": {
      "text/plain": [
       "sklearn.feature_extraction.text.TfidfVectorizer"
      ]
     },
     "execution_count": 3,
     "metadata": {},
     "output_type": "execute_result"
    }
   ],
   "source": [
    "type(tvec_pkl)"
   ]
  },
  {
   "cell_type": "code",
   "execution_count": 4,
   "metadata": {},
   "outputs": [
    {
     "name": "stdout",
     "output_type": "stream",
     "text": [
      "  (0, 134579)\t0.5142113567077322\n",
      "  (0, 72899)\t0.18720606892424274\n",
      "  (0, 72204)\t0.35286623937164935\n",
      "  (0, 59785)\t0.3847864263775771\n",
      "  (0, 54529)\t0.6541906385588288\n"
     ]
    }
   ],
   "source": [
    "# newdata = train[train['target']==1]['overview'].sample(1).values\n",
    "newdata = ['this is a test this is just a test funny funny joke ha']\n",
    "tvec_test=tvec_pkl.transform(newdata)\n",
    "print(str(tvec_pkl.transform(newdata)))"
   ]
  },
  {
   "cell_type": "code",
   "execution_count": 5,
   "metadata": {},
   "outputs": [],
   "source": [
    "# open the pickled RF model file\n",
    "file = open(f'trained_rf_model.pkl', 'rb')\n",
    "rf_model_pickled=pickle.load(file)\n",
    "file.close()"
   ]
  },
  {
   "cell_type": "code",
   "execution_count": 29,
   "metadata": {},
   "outputs": [
    {
     "name": "stdout",
     "output_type": "stream",
     "text": [
      "[0]\n",
      "[0.9]\n",
      "[0.1]\n"
     ]
    }
   ],
   "source": [
    "# new predictions\n",
    "preds_test=rf_model_pickled.predict(tvec_test)\n",
    "print(preds_test)\n",
    "probs_test0=rf_model_pickled.predict_proba(tvec_test)[:,0]\n",
    "print(probs_test0)\n",
    "probs_test1=rf_model_pickled.predict_proba(tvec_test)[:,1]\n",
    "print(probs_test1)\n"
   ]
  },
  {
   "cell_type": "code",
   "execution_count": 30,
   "metadata": {},
   "outputs": [
    {
     "name": "stdout",
     "output_type": "stream",
     "text": [
      "[1]\n",
      "[0.2]\n",
      "[0.8]\n"
     ]
    }
   ],
   "source": [
    "# using the 15 top words of the classifier\n",
    "tryagain=['high, friends, wedding, kids, big, best friends, beauty, just, competition, woman, make, comedy, trio, laid, stars']\n",
    "tvec_02 = tvec_pkl.transform(tryagain)\n",
    "preds_02=rf_model_pickled.predict(tvec_02)\n",
    "print(preds_02)\n",
    "probs_test0=rf_model_pickled.predict_proba(tvec_02)[:,0]\n",
    "print(probs_test0)\n",
    "probs_test1=rf_model_pickled.predict_proba(tvec_02)[:,1]\n",
    "print(probs_test1)"
   ]
  },
  {
   "cell_type": "code",
   "execution_count": null,
   "metadata": {},
   "outputs": [],
   "source": [
    "# probabilities\n"
   ]
  },
  {
   "cell_type": "code",
   "execution_count": null,
   "metadata": {},
   "outputs": [],
   "source": []
  }
 ],
 "metadata": {
  "kernelspec": {
   "display_name": "Python 3",
   "language": "python",
   "name": "python3"
  },
  "language_info": {
   "codemirror_mode": {
    "name": "ipython",
    "version": 3
   },
   "file_extension": ".py",
   "mimetype": "text/x-python",
   "name": "python",
   "nbconvert_exporter": "python",
   "pygments_lexer": "ipython3",
   "version": "3.7.3"
  }
 },
 "nbformat": 4,
 "nbformat_minor": 2
}
