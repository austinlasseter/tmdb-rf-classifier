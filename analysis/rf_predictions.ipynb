{
 "cells": [
  {
   "cell_type": "markdown",
   "metadata": {},
   "source": [
    "## Predict on new data"
   ]
  },
  {
   "cell_type": "code",
   "execution_count": 1,
   "metadata": {},
   "outputs": [],
   "source": [
    "# EDA and data handling\n",
    "import numpy as np \n",
    "import pandas as pd \n",
    "import pickle\n",
    "import os\n",
    "import matplotlib.pyplot as plt\n",
    "\n",
    "# Modeling\n",
    "import sklearn\n",
    "from sklearn.model_selection import train_test_split, GridSearchCV \n",
    "from sklearn.feature_extraction.text import TfidfVectorizer\n",
    "from sklearn.ensemble import RandomForestClassifier \n",
    "from sklearn import metrics"
   ]
  },
  {
   "cell_type": "code",
   "execution_count": 2,
   "metadata": {},
   "outputs": [],
   "source": [
    "# open the pickled word vector file\n",
    "file = open('vectorizer.pkl', 'rb')\n",
    "tvec_pkl=pickle.load(file)\n",
    "file.close()"
   ]
  },
  {
   "cell_type": "code",
   "execution_count": 3,
   "metadata": {},
   "outputs": [
    {
     "data": {
      "text/plain": [
       "sklearn.feature_extraction.text.TfidfVectorizer"
      ]
     },
     "execution_count": 3,
     "metadata": {},
     "output_type": "execute_result"
    }
   ],
   "source": [
    "type(tvec_pkl)"
   ]
  },
  {
   "cell_type": "code",
   "execution_count": 9,
   "metadata": {},
   "outputs": [
    {
     "name": "stdout",
     "output_type": "stream",
     "text": [
      "  (0, 5947)\t0.29664739297858916\n",
      "  (0, 5860)\t0.28279540467977005\n",
      "  (0, 5835)\t0.28928738861746894\n",
      "  (0, 5109)\t0.2669388988331264\n",
      "  (0, 4151)\t0.3151931227897917\n",
      "  (0, 4002)\t0.22224191926444126\n",
      "  (0, 3674)\t0.21462732711704896\n",
      "  (0, 3169)\t0.2335298100037078\n",
      "  (0, 2674)\t0.22432209661513305\n",
      "  (0, 2656)\t0.27173480563469404\n",
      "  (0, 2440)\t0.20057813589683304\n",
      "  (0, 1927)\t0.2310797107427739\n",
      "  (0, 1598)\t0.3051438944641126\n",
      "  (0, 1424)\t0.24459040904878382\n",
      "  (0, 545)\t0.23878313152781933\n"
     ]
    }
   ],
   "source": [
    "# try the major words from our model\n",
    "newdata = ['horror, spirit, weekend, group, left, evil, deadly, battle, mysterious, possession, people, disappeared, vicious, virus, house']\n",
    "tvec_test=tvec_pkl.transform(newdata)\n",
    "print(str(tvec_pkl.transform(newdata)))"
   ]
  },
  {
   "cell_type": "code",
   "execution_count": 10,
   "metadata": {},
   "outputs": [],
   "source": [
    "# open the pickled RF model file\n",
    "file = open(f'trained_rf_model.pkl', 'rb')\n",
    "rf_model_pickled=pickle.load(file)\n",
    "file.close()"
   ]
  },
  {
   "cell_type": "code",
   "execution_count": 11,
   "metadata": {},
   "outputs": [
    {
     "name": "stdout",
     "output_type": "stream",
     "text": [
      "[1]\n",
      "[0.]\n",
      "[1.]\n"
     ]
    }
   ],
   "source": [
    "# new predictions\n",
    "preds_test=rf_model_pickled.predict(tvec_test)\n",
    "print(preds_test)\n",
    "probs_test0=rf_model_pickled.predict_proba(tvec_test)[:,0]\n",
    "print(probs_test0)\n",
    "probs_test1=rf_model_pickled.predict_proba(tvec_test)[:,1]\n",
    "print(probs_test1)\n"
   ]
  },
  {
   "cell_type": "code",
   "execution_count": 12,
   "metadata": {},
   "outputs": [
    {
     "name": "stdout",
     "output_type": "stream",
     "text": [
      "[0]\n",
      "[0.7]\n",
      "[0.3]\n"
     ]
    }
   ],
   "source": [
    "# using the 15 top words of the classifier for comedy\n",
    "tryagain=['high, friends, wedding, kids, big, best friends, beauty, just, competition, woman, make, comedy, trio, laid, stars']\n",
    "tvec_02 = tvec_pkl.transform(tryagain)\n",
    "preds_02=rf_model_pickled.predict(tvec_02)\n",
    "print(preds_02)\n",
    "probs_test0=rf_model_pickled.predict_proba(tvec_02)[:,0]\n",
    "print(probs_test0)\n",
    "probs_test1=rf_model_pickled.predict_proba(tvec_02)[:,1]\n",
    "print(probs_test1)"
   ]
  }
 ],
 "metadata": {
  "kernelspec": {
   "display_name": "Python 3",
   "language": "python",
   "name": "python3"
  },
  "language_info": {
   "codemirror_mode": {
    "name": "ipython",
    "version": 3
   },
   "file_extension": ".py",
   "mimetype": "text/x-python",
   "name": "python",
   "nbconvert_exporter": "python",
   "pygments_lexer": "ipython3",
   "version": "3.7.3"
  }
 },
 "nbformat": 4,
 "nbformat_minor": 2
}
